{
 "cells": [
  {
   "cell_type": "code",
   "execution_count": null,
   "metadata": {},
   "outputs": [],
   "source": [
    "import tensorflow as tf\n",
    "import numpy as np\n",
    "import keras\n",
    "from keras.datasets import mnist\n",
    "import sys\n",
    "import matplotlib.pyplot as plt"
   ]
  },
  {
   "cell_type": "markdown",
   "metadata": {},
   "source": [
    "# Vanilla pixel CNN\n",
    "\n",
    "No horizontal/vertical stacking. No gating."
   ]
  },
  {
   "cell_type": "code",
   "execution_count": 2,
   "metadata": {},
   "outputs": [],
   "source": [
    "class pixelcnn:\n",
    "    \n",
    "    # Building an initializer\n",
    "    def __init__(self,\n",
    "                 batchsize=16,\n",
    "                 width=28,\n",
    "                 height=28,\n",
    "                 num_res_blocks=2,\n",
    "                 num_filters=32,\n",
    "                 output_channel=16,\n",
    "                 input_channel=1,\n",
    "                 kernel_size=3):\n",
    "        \n",
    "        # Network architecture parameter\n",
    "        self.batchsize=batchsize\n",
    "        self.width=width\n",
    "        self.height=height\n",
    "        self.num_res_blocks=num_res_blocks\n",
    "        self.num_filters=num_filters\n",
    "        self.output_channel=output_channel\n",
    "        self.input_channel=input_channel\n",
    "        self.kernel_size = kernel_size\n",
    "        \n",
    "        tf.reset_default_graph()\n",
    "        self.built = False\n",
    "        config = tf.ConfigProto()\n",
    "        config.gpu_options.allow_growth=True\n",
    "        self.sesh = tf.Session(config=config)\n",
    "        self.ops = self.build()\n",
    "        self.sesh.run(tf.global_variables_initializer())    \n",
    "\n",
    "    # Building a graph\n",
    "    def build(self):\n",
    "        if self.built: return -1\n",
    "        else: self.built = True\n",
    "        \n",
    "        # Input image\n",
    "        x = tf.placeholder(tf.float32, shape=[None, self.height, self.width, self.input_channel])\n",
    "        y = tf.placeholder(tf.float32, shape=[None, self.height, self.width, self.output_channel])\n",
    "        \n",
    "        # Get the first layer out\n",
    "        maskA = tf.constant(getMask(self.input_channel, self.num_filters*2, size=self.kernel_size, masktype=\"A\"), dtype=tf.float32)\n",
    "        kernel = tf.get_variable(\"kernel\", shape=[self.kernel_size, self.kernel_size, self.input_channel, self.num_filters*2], initializer=tf.contrib.layers.xavier_initializer())\n",
    "        layer = tf.nn.conv2d(x, kernel*maskA, strides=[1,1,1,1], padding=\"SAME\")\n",
    "        \n",
    "        # Residual network here\n",
    "        for i in range(self.num_res_blocks):\n",
    "            layer = self.resiual_block(layer, i)\n",
    "            \n",
    "        layer = tf.nn.relu(layer)\n",
    "        kernel = tf.get_variable(\"kernel2\", shape=[1, 1, self.num_filters*1, self.num_filters*1], initializer=tf.contrib.layers.xavier_initializer())\n",
    "        layer = tf.nn.conv2d(layer, kernel, strides=[1,1,1,1], padding=\"SAME\")\n",
    "        \n",
    "        layer = tf.nn.relu(layer)\n",
    "        kernel = tf.get_variable(\"kernel3\", shape=[1, 1, self.num_filters*1, self.output_channel*1], initializer=tf.contrib.layers.xavier_initializer())\n",
    "        logits = tf.nn.conv2d(layer, kernel, strides=[1,1,1,1], padding=\"SAME\")\n",
    "        predictions = tf.nn.softmax(logits)\n",
    "        \n",
    "        # Cost\n",
    "        with tf.name_scope(\"cost\"):\n",
    "            temps = tf.nn.softmax_cross_entropy_with_logits_v2(labels=y, logits=logits, axis=-1)\n",
    "            cost = tf.reduce_mean(temps, axis=[0,1,2])\n",
    "        \n",
    "        # Optimization\n",
    "        update_ops = tf.get_collection(tf.GraphKeys.UPDATE_OPS)\n",
    "        with tf.control_dependencies(update_ops):\n",
    "            optimizer = tf.train.AdamOptimizer(0.00005)\n",
    "            tvars = tf.trainable_variables()\n",
    "            grads_and_vars = optimizer.compute_gradients(cost, tvars)\n",
    "            clipped = [(tf.clip_by_value(grad, -5, 5), tvar) for grad, tvar in grads_and_vars]\n",
    "            train = optimizer.apply_gradients(clipped, name=\"minimize_cost\")\n",
    "        \n",
    "        return dict(x=x,\n",
    "                    y=y,\n",
    "                    cost=cost,\n",
    "                    train=train,\n",
    "                    predictions=predictions)\n",
    "    \n",
    "    def resiual_block(self, _input, blocknum):\n",
    "    \n",
    "        with tf.variable_scope('resblock_'+str(blocknum)):\n",
    "            # Saving input\n",
    "            saved_input = _input\n",
    "\n",
    "            # Projection down\n",
    "            layer = tf.nn.relu(_input)\n",
    "            kernel = tf.get_variable(\"kernel\", shape=[1, 1, self.num_filters*2, self.num_filters*1], initializer=tf.contrib.layers.xavier_initializer())\n",
    "            layer = tf.nn.conv2d(layer, kernel, strides=[1,1,1,1], padding=\"SAME\")\n",
    "\n",
    "            # Masked convolution\n",
    "            layer = tf.nn.relu(layer)\n",
    "            maskB = tf.constant(getMask(self.num_filters, self.num_filters, size=self.kernel_size, masktype=\"B\"), dtype=tf.float32)\n",
    "            kernel = tf.get_variable(\"kernel2\", shape=[self.kernel_size, self.kernel_size, self.num_filters, self.num_filters], initializer=tf.contrib.layers.xavier_initializer())\n",
    "            layer = tf.nn.conv2d(layer, kernel*maskB, strides=[1,1,1,1], padding=\"SAME\")\n",
    "\n",
    "            # Projection up\n",
    "            layer = tf.nn.relu(layer)\n",
    "            kernel = tf.get_variable(\"kernel3\", shape=[1, 1, self.num_filters*1, self.num_filters*2], initializer=tf.contrib.layers.xavier_initializer())\n",
    "            layer = tf.nn.conv2d(layer, kernel, strides=[1,1,1,1], padding=\"SAME\")\n",
    "\n",
    "            output = saved_input + layer\n",
    "        return output\n",
    "    \n",
    "    def train(self, X, Y, steps):\n",
    "        \n",
    "        for s in range(steps):\n",
    "            indicies  = np.random.choice(np.arange(X.shape[0]), self.batchsize)\n",
    "            feed_dict = {self.ops[\"x\"]: X[indicies],\\\n",
    "                         self.ops[\"y\"]: Y[indicies]}\n",
    "            \n",
    "            ops_to_run = [self.ops[\"cost\"],\\\n",
    "                          self.ops[\"train\"],\n",
    "                          self.ops[\"predictions\"]]\n",
    "\n",
    "            cost, _, preds = self.sesh.run(ops_to_run, feed_dict)\n",
    "            sys.stdout.write(\"\\rBatch: [%2d/%2d], loss: %.2f\"%(s, steps, cost))\n",
    "            \n",
    "        return preds\n"
   ]
  },
  {
   "cell_type": "code",
   "execution_count": 3,
   "metadata": {},
   "outputs": [],
   "source": [
    "# Mask shape implementation\n",
    "def getMask(input_c, output_c, size=3, masktype=\"A\"):\n",
    "    assert size%2==1 and size>1\n",
    "    if masktype == \"A\":\n",
    "        m = np.zeros((size,size))\n",
    "        m[:int(np.floor(size/2)), :] = 1\n",
    "        m[int(np.floor(size/2)), :int(np.floor(size/2))] = 1\n",
    "    elif masktype == \"B\":\n",
    "        m = np.zeros((size,size))\n",
    "        m[:int(np.floor(size/2)), :] = 1\n",
    "        m[int(np.floor(size/2)), :int(np.floor(size/2))+1] = 1\n",
    "    else:\n",
    "        print(\"Error: no such masktype.\")\n",
    "    m2 = np.stack([m]*input_c, axis=-1)\n",
    "    return np.stack([m2]*output_c, axis=-1)"
   ]
  },
  {
   "cell_type": "code",
   "execution_count": 4,
   "metadata": {},
   "outputs": [],
   "source": [
    "def inference_histogram(network, nosample=False):\n",
    "    nsamples = 16\n",
    "    nbins = network.output_channel\n",
    "    output = np.zeros((nsamples, network.width, network.height, nbins))\n",
    "    for i in range(network.width):\n",
    "        for j in range(network.height):\n",
    "            temp = network.sesh.run(network.ops[\"predictions\"], feed_dict={network.ops[\"x\"]:output})\n",
    "            if nosample:\n",
    "                output[:,i,j,:] = temp[:,i,j,:]\n",
    "            else:\n",
    "                output[:,i,j,:] = np.eye(nbins)[np.array([np.random.choice(np.arange(0,nbins), p=temp[n,i,j,:]/np.sum(temp[n,i,j,:])) for n in range(nsamples)])]\n",
    "    return output                                    "
   ]
  },
  {
   "cell_type": "markdown",
   "metadata": {},
   "source": [
    "# No boundary, histogram based input"
   ]
  },
  {
   "cell_type": "code",
   "execution_count": 63,
   "metadata": {},
   "outputs": [],
   "source": [
    "(x_train, y_train), (x_test, y_test) = mnist.load_data()\n",
    "x = np.expand_dims(x_train, -1)\n",
    "y = np.eye(16)[np.digitize(x_train, np.arange(16,256,16))]"
   ]
  },
  {
   "cell_type": "code",
   "execution_count": 64,
   "metadata": {},
   "outputs": [],
   "source": [
    "network = pixelcnn(output_channel=16, input_channel=16, num_res_blocks=10)"
   ]
  },
  {
   "cell_type": "code",
   "execution_count": 65,
   "metadata": {},
   "outputs": [
    {
     "name": "stdout",
     "output_type": "stream",
     "text": [
      "Batch: [9999/10000], loss: 0.35"
     ]
    }
   ],
   "source": [
    "x = network.train(y,y,10000)"
   ]
  },
  {
   "cell_type": "markdown",
   "metadata": {},
   "source": [
    "No sampling --> No variation"
   ]
  },
  {
   "cell_type": "code",
   "execution_count": 66,
   "metadata": {},
   "outputs": [
    {
     "data": {
      "image/png": "[encoded data removed]",
      "text/plain": [
       "<Figure size 432x432 with 16 Axes>"
      ]
     },
     "metadata": {},
     "output_type": "display_data"
    }
   ],
   "source": [
    "x = inference_histogram(network, True)\n",
    "\n",
    "_, axes = plt.subplots(4,4,figsize=(6,6))\n",
    "for i in range(4):\n",
    "    for j in range(4):\n",
    "        axes[i][j].imshow(np.argmax(x, -1)[i*4+j]*16)\n",
    "        axes[i][j].set_xticks([])\n",
    "        axes[i][j].set_yticks([])\n",
    "plt.show()"
   ]
  },
  {
   "cell_type": "markdown",
   "metadata": {},
   "source": [
    "Sampling based"
   ]
  },
  {
   "cell_type": "code",
   "execution_count": 67,
   "metadata": {},
   "outputs": [
    {
     "data": {
      "image/png": "[encoded data removed]",
      "text/plain": [
       "<Figure size 432x432 with 16 Axes>"
      ]
     },
     "metadata": {},
     "output_type": "display_data"
    }
   ],
   "source": [
    "x = inference_histogram(network, False)\n",
    "\n",
    "_, axes = plt.subplots(4,4,figsize=(6,6))\n",
    "for i in range(4):\n",
    "    for j in range(4):\n",
    "        axes[i][j].imshow(np.argmax(x, -1)[i*4+j]*16)\n",
    "        axes[i][j].set_xticks([])\n",
    "        axes[i][j].set_yticks([])\n",
    "plt.show()"
   ]
  },
  {
   "cell_type": "markdown",
   "metadata": {},
   "source": [
    "# Let us now have a complete boundary\n",
    "\n",
    "May be the difference between 0 padding and 0 region of mnist needs to be more obvious?\n",
    "Let us now add +1 to all image"
   ]
  },
  {
   "cell_type": "code",
   "execution_count": 68,
   "metadata": {},
   "outputs": [],
   "source": [
    "# padding are 0. all pixels are +1\n",
    "(x_train, y_train), (x_test, y_test) = mnist.load_data()\n",
    "x = np.expand_dims(x_train, -1)\n",
    "y = np.eye(17)[np.digitize(x_train, np.arange(16,256,16))+1]"
   ]
  },
  {
   "cell_type": "code",
   "execution_count": 69,
   "metadata": {},
   "outputs": [],
   "source": [
    "network = pixelcnn(output_channel=17, input_channel=17, num_res_blocks=10)"
   ]
  },
  {
   "cell_type": "code",
   "execution_count": 70,
   "metadata": {},
   "outputs": [
    {
     "name": "stdout",
     "output_type": "stream",
     "text": [
      "Batch: [9999/10000], loss: 0.33"
     ]
    }
   ],
   "source": [
    "x = network.train(y,y,10000)"
   ]
  },
  {
   "cell_type": "markdown",
   "metadata": {},
   "source": [
    "It is not quite there yet."
   ]
  },
  {
   "cell_type": "code",
   "execution_count": 72,
   "metadata": {},
   "outputs": [
    {
     "data": {
      "image/png": "[encoded data removed]",
      "text/plain": [
       "<Figure size 432x432 with 16 Axes>"
      ]
     },
     "metadata": {},
     "output_type": "display_data"
    }
   ],
   "source": [
    "x = inference_histogram(network, False)\n",
    "\n",
    "_, axes = plt.subplots(4,4,figsize=(6,6))\n",
    "for i in range(4):\n",
    "    for j in range(4):\n",
    "        axes[i][j].imshow((np.argmax(x, -1)[i*4+j]-1)*16)\n",
    "        axes[i][j].set_xticks([])\n",
    "        axes[i][j].set_yticks([])\n",
    "plt.show()"
   ]
  },
  {
   "cell_type": "markdown",
   "metadata": {},
   "source": [
    "# Expanding the pereptive field by deeper network\n",
    "With convolution layer of size 3, the perceptive field only increase by 1 per layer.\n",
    "There are two solutions; i) dilated convolution, or ii) make it deeper.\n"
   ]
  },
  {
   "cell_type": "code",
   "execution_count": 73,
   "metadata": {},
   "outputs": [],
   "source": [
    "# padding are 0. all pixels are +1\n",
    "(x_train, y_train), (x_test, y_test) = mnist.load_data()\n",
    "x = np.expand_dims(x_train, -1)\n",
    "y = np.eye(17)[np.digitize(x_train, np.arange(16,256,16))+1]"
   ]
  },
  {
   "cell_type": "markdown",
   "metadata": {},
   "source": [
    "Perceptive field of 30"
   ]
  },
  {
   "cell_type": "code",
   "execution_count": 74,
   "metadata": {},
   "outputs": [],
   "source": [
    "network = pixelcnn(output_channel=17, input_channel=17, num_res_blocks=30)"
   ]
  },
  {
   "cell_type": "code",
   "execution_count": 75,
   "metadata": {},
   "outputs": [
    {
     "name": "stdout",
     "output_type": "stream",
     "text": [
      "Batch: [9999/10000], loss: 0.35"
     ]
    }
   ],
   "source": [
    "x = network.train(y,y,10000)"
   ]
  },
  {
   "cell_type": "code",
   "execution_count": 76,
   "metadata": {},
   "outputs": [
    {
     "data": {
      "image/png": "[encoded data removed]",
      "text/plain": [
       "<Figure size 432x432 with 16 Axes>"
      ]
     },
     "metadata": {},
     "output_type": "display_data"
    }
   ],
   "source": [
    "x = inference_histogram(network, False)\n",
    "\n",
    "_, axes = plt.subplots(4,4,figsize=(6,6))\n",
    "for i in range(4):\n",
    "    for j in range(4):\n",
    "        axes[i][j].imshow((np.argmax(x, -1)[i*4+j]-1)*16)\n",
    "        axes[i][j].set_xticks([])\n",
    "        axes[i][j].set_yticks([])\n",
    "plt.show()"
   ]
  },
  {
   "cell_type": "markdown",
   "metadata": {},
   "source": [
    "# How can I make it better?\n",
    "I mean this is a pretty large network for mnist generation already....\n",
    "Ok so it looks like we need a lot more filters"
   ]
  },
  {
   "cell_type": "code",
   "execution_count": 6,
   "metadata": {},
   "outputs": [],
   "source": [
    "# padding are 0. all pixels are +1\n",
    "(x_train, y_train), (x_test, y_test) = mnist.load_data()\n",
    "x = np.expand_dims(x_train, -1)\n",
    "y = np.eye(17)[np.digitize(x_train, np.arange(16,256,16))+1]"
   ]
  },
  {
   "cell_type": "code",
   "execution_count": 5,
   "metadata": {},
   "outputs": [
    {
     "name": "stdout",
     "output_type": "stream",
     "text": [
      "WARNING:tensorflow:\n",
      "The TensorFlow contrib module will not be included in TensorFlow 2.0.\n",
      "For more information, please see:\n",
      "  * https://github.com/tensorflow/community/blob/master/rfcs/20180907-contrib-sunset.md\n",
      "  * https://github.com/tensorflow/addons\n",
      "  * https://github.com/tensorflow/io (for I/O related ops)\n",
      "If you depend on functionality not listed there, please file an issue.\n",
      "\n"
     ]
    }
   ],
   "source": [
    "network = pixelcnn(output_channel=17, input_channel=17, num_res_blocks=60, num_filters=64, kernel_size=5)"
   ]
  },
  {
   "cell_type": "code",
   "execution_count": 8,
   "metadata": {},
   "outputs": [
    {
     "name": "stdout",
     "output_type": "stream",
     "text": [
      "Batch: [29999/30000], loss: 0.31"
     ]
    }
   ],
   "source": [
    "x = network.train(y,y,30000)"
   ]
  },
  {
   "cell_type": "code",
   "execution_count": 9,
   "metadata": {},
   "outputs": [
    {
     "data": {
      "image/png": "[encoded data removed]",
      "text/plain": [
       "<Figure size 432x432 with 16 Axes>"
      ]
     },
     "metadata": {},
     "output_type": "display_data"
    }
   ],
   "source": [
    "x = inference_histogram(network, False)\n",
    "\n",
    "_, axes = plt.subplots(4,4,figsize=(6,6))\n",
    "for i in range(4):\n",
    "    for j in range(4):\n",
    "        axes[i][j].imshow((np.argmax(x, -1)[i*4+j]-1)*16)\n",
    "        axes[i][j].set_xticks([])\n",
    "        axes[i][j].set_yticks([])\n",
    "plt.show()"
   ]
  },
  {
   "cell_type": "markdown",
   "metadata": {},
   "source": [
    "# Let's do more filters m8\n",
    "\n",
    "Less layers but four times more filters."
   ]
  },
  {
   "cell_type": "code",
   "execution_count": 16,
   "metadata": {},
   "outputs": [],
   "source": [
    "network = pixelcnn(output_channel=17, input_channel=17, num_res_blocks=30, num_filters=256, kernel_size=5)"
   ]
  },
  {
   "cell_type": "code",
   "execution_count": null,
   "metadata": {},
   "outputs": [
    {
     "name": "stdout",
     "output_type": "stream",
     "text": [
      "Batch: [5887/20000], loss: 0.29"
     ]
    }
   ],
   "source": [
    "x = network.train(y,y,20000)"
   ]
  },
  {
   "cell_type": "code",
   "execution_count": null,
   "metadata": {},
   "outputs": [],
   "source": [
    "x = inference_histogram(network, False)\n",
    "\n",
    "_, axes = plt.subplots(4,4,figsize=(6,6))\n",
    "for i in range(4):\n",
    "    for j in range(4):\n",
    "        axes[i][j].imshow((np.argmax(x, -1)[i*4+j]-1)*16)\n",
    "        axes[i][j].set_xticks([])\n",
    "        axes[i][j].set_yticks([])\n",
    "plt.show()"
   ]
  },
  {
   "cell_type": "code",
   "execution_count": null,
   "metadata": {},
   "outputs": [],
   "source": []
  }
 ],
 "metadata": {
  "kernelspec": {
   "display_name": "Python 3",
   "language": "python",
   "name": "python3"
  },
  "language_info": {
   "codemirror_mode": {
    "name": "ipython",
    "version": 3
   },
   "file_extension": ".py",
   "mimetype": "text/x-python",
   "name": "python",
   "nbconvert_exporter": "python",
   "pygments_lexer": "ipython3",
   "version": "3.6.9"
  }
 },
 "nbformat": 4,
 "nbformat_minor": 2
}
